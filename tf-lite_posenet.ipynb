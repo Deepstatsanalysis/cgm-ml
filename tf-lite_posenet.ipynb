{
 "cells": [
  {
   "cell_type": "code",
   "execution_count": 41,
   "metadata": {},
   "outputs": [],
   "source": [
    "import glob2\n",
    "import os\n",
    "from random import randint\n",
    "from IPython.core.display import Image, display\n",
    "import numpy as np\n",
    "import numpy as np\n",
    "import tensorflow as tf\n",
    "from skimage import transform,io\n",
    "import cv2"
   ]
  },
  {
   "cell_type": "code",
   "execution_count": 42,
   "metadata": {},
   "outputs": [
    {
     "name": "stdout",
     "output_type": "stream",
     "text": [
      "jpg_paths 91\n"
     ]
    }
   ],
   "source": [
    "training_path = \"/whhdata/person/MH_WHH_0153/measurements/1537860868501/rgb/\"\n",
    "#training_path = \"\"\n",
    "\n",
    "glob_search_path = os.path.join(training_path, \"**/*.jpg\")\n",
    "jpg_paths = glob2.glob(glob_search_path)\n",
    "print(\"jpg_paths\", len(jpg_paths))"
   ]
  },
  {
   "cell_type": "code",
   "execution_count": null,
   "metadata": {},
   "outputs": [],
   "source": [
    "index = randint(0,len(jpg_paths)-1)\n",
    "img_filename = jpg_paths[index]\n",
    "print(\"File %s: %s\" % (index, img_filename))\n",
    "#display(Image(filename=img_filename, width=257, height=353))"
   ]
  },
  {
   "cell_type": "code",
   "execution_count": null,
   "metadata": {},
   "outputs": [],
   "source": [
    "img = cv2.imread(img_filename)\n",
    "print(type(img))\n",
    "print(img.shape)\n",
    "img_rotate_90_clockwise = cv2.rotate(img, cv2.ROTATE_90_CLOCKWISE)\n",
    "cv2.imwrite('90roation.jpg', img_rotate_90_clockwise)"
   ]
  },
  {
   "cell_type": "code",
   "execution_count": null,
   "metadata": {},
   "outputs": [],
   "source": [
    "from PIL import Image\n",
    "colorImage  = Image.open(img_filename)\n",
    "transposed  = colorImage.transpose(Image.ROTATE_90)"
   ]
  },
  {
   "cell_type": "code",
   "execution_count": null,
   "metadata": {},
   "outputs": [],
   "source": [
    "image = io.imread(\"90roation.jpg\")"
   ]
  },
  {
   "cell_type": "code",
   "execution_count": null,
   "metadata": {},
   "outputs": [],
   "source": [
    "training_path = \"\"\n",
    "\n",
    "glob_search_path = os.path.join(training_path, \"**/*.jpg\")\n",
    "jpg_paths = glob2.glob(glob_search_path)\n",
    "print(\"jpg_paths\", len(jpg_paths))"
   ]
  },
  {
   "cell_type": "code",
   "execution_count": null,
   "metadata": {},
   "outputs": [],
   "source": [
    "index = randint(0,len(jpg_paths)-1)\n",
    "img_filename = jpg_paths[index]\n",
    "print(\"File %s: %s\" % (index, img_filename))"
   ]
  },
  {
   "cell_type": "code",
   "execution_count": null,
   "metadata": {},
   "outputs": [],
   "source": [
    "def imshow(img):\n",
    "    import cv2\n",
    "    import IPython\n",
    "    _,ret = cv2.imencode('.jpg', img) \n",
    "    i = IPython.display.Image(data=ret)\n",
    "    IPython.display.display(i)"
   ]
  },
  {
   "cell_type": "code",
   "execution_count": null,
   "metadata": {},
   "outputs": [],
   "source": [
    "\n",
    "import PIL.Image\n",
    "#from cStringIO import StringIO\n",
    "import io\n",
    "import IPython.display\n",
    "import numpy as np\n",
    "def showarray(a, fmt='png'):\n",
    "    a = np.uint8(a)\n",
    "    f = io.StringIO()\n",
    "    PIL.Image.fromarray(a).save(f, fmt)\n",
    "    IPython.display.display(IPython.display.Image(data=f.getvalue()))"
   ]
  },
  {
   "cell_type": "code",
   "execution_count": null,
   "metadata": {},
   "outputs": [],
   "source": [
    "PIL.Image.fromarray(image)"
   ]
  },
  {
   "cell_type": "code",
   "execution_count": null,
   "metadata": {},
   "outputs": [],
   "source": [
    "import tensorflow as tf\n",
    "import cv2\n",
    "import time\n",
    "import argparse\n",
    "import os\n",
    "\n",
    "import posenet"
   ]
  },
  {
   "cell_type": "code",
   "execution_count": 37,
   "metadata": {},
   "outputs": [],
   "source": [
    "def main():\n",
    "\n",
    "    with tf.Session() as sess:\n",
    "        model_cfg, model_outputs = posenet.load_model(101, sess)\n",
    "        output_stride = model_cfg['output_stride']\n",
    "\n",
    "\n",
    "        start = time.time()\n",
    "        input_image, draw_image, output_scale = posenet.read_imgfile(\n",
    "            img_filename, scale_factor=1, output_stride=output_stride)\n",
    "\n",
    "        heatmaps_result, offsets_result, displacement_fwd_result, displacement_bwd_result = sess.run(\n",
    "            model_outputs,\n",
    "            feed_dict={'image:0': input_image}\n",
    "        )\n",
    "\n",
    "        pose_scores, keypoint_scores, keypoint_coords = posenet.decode_multiple_poses(\n",
    "            heatmaps_result.squeeze(axis=0),\n",
    "            offsets_result.squeeze(axis=0),\n",
    "            displacement_fwd_result.squeeze(axis=0),\n",
    "            displacement_bwd_result.squeeze(axis=0),\n",
    "            output_stride=output_stride,\n",
    "            max_pose_detections=10,\n",
    "            min_pose_score=0.25)\n",
    "\n",
    "        keypoint_coords *= output_scale\n",
    "\n",
    "\n",
    "\n",
    "        print()\n",
    "        print(\"Results for image: %s\" % img_filename)\n",
    "        for pi in range(len(pose_scores)):\n",
    "            if pose_scores[pi] == 0.:\n",
    "                break\n",
    "            print('Pose #%d, score = %f' % (pi, pose_scores[pi]))\n",
    "            for ki, (s, c) in enumerate(zip(keypoint_scores[pi, :], keypoint_coords[pi, :, :])):\n",
    "                print('Keypoint %s, score = %f, coord = %s' % (posenet.PART_NAMES[ki], s, c))\n",
    "\n",
    "        print('Average FPS:', len(img_filename) / (time.time() - start))"
   ]
  },
  {
   "cell_type": "code",
   "execution_count": 38,
   "metadata": {},
   "outputs": [
    {
     "name": "stdout",
     "output_type": "stream",
     "text": [
      "\n",
      "Results for image: 90roation.jpg\n",
      "Pose #0, score = 0.330989\n",
      "Keypoint nose, score = 0.983822, coord = [406.6924836  522.03662495]\n",
      "Keypoint leftEye, score = 0.998724, coord = [366.59928683 561.1453984 ]\n",
      "Keypoint rightEye, score = 0.527671, coord = [367.06754511 468.70725946]\n",
      "Keypoint leftEar, score = 0.417053, coord = [386.54850004 608.7030574 ]\n",
      "Keypoint rightEar, score = 0.146144, coord = [404.68551421 392.64341221]\n",
      "Keypoint leftShoulder, score = 0.331872, coord = [610.02861218 631.43431416]\n",
      "Keypoint rightShoulder, score = 0.270064, coord = [623.89149576 352.52873402]\n",
      "Keypoint leftElbow, score = 0.522320, coord = [842.30219144 703.64915178]\n",
      "Keypoint rightElbow, score = 0.279837, coord = [851.81309269 305.13086491]\n",
      "Keypoint leftWrist, score = 0.091696, coord = [1042.55851368  710.89471837]\n",
      "Keypoint rightWrist, score = 0.475166, coord = [1031.75391559  254.35907524]\n",
      "Keypoint leftHip, score = 0.217661, coord = [1052.32314349  598.05813864]\n",
      "Keypoint rightHip, score = 0.113651, coord = [1039.61337994  419.10305685]\n",
      "Keypoint leftKnee, score = 0.043646, coord = [1303.8433034   585.62595545]\n",
      "Keypoint rightKnee, score = 0.119676, coord = [1307.8940682   453.21839709]\n",
      "Keypoint leftAnkle, score = 0.002160, coord = [1560.20442996  602.22403461]\n",
      "Keypoint rightAnkle, score = 0.085650, coord = [1550.13849992  440.27603189]\n",
      "Average FPS: 5.978515001178139\n"
     ]
    }
   ],
   "source": [
    "if __name__ == \"__main__\":\n",
    "    main()"
   ]
  }
 ],
 "metadata": {
  "kernelspec": {
   "display_name": "Python 3.5",
   "language": "python",
   "name": "python3"
  },
  "language_info": {
   "codemirror_mode": {
    "name": "ipython",
    "version": 3
   },
   "file_extension": ".py",
   "mimetype": "text/x-python",
   "name": "python",
   "nbconvert_exporter": "python",
   "pygments_lexer": "ipython3",
   "version": "3.5.5"
  }
 },
 "nbformat": 4,
 "nbformat_minor": 2
}
