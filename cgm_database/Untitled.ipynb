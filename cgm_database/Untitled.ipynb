{
 "cells": [
  {
   "cell_type": "code",
   "execution_count": 1,
   "metadata": {},
   "outputs": [
    {
     "name": "stdout",
     "output_type": "stream",
     "text": [
      "Loading /data/home/psingh/notebooks/cgm-ml/cgm_database/dbconnection.json...\n",
      "Host:    cgm-in-bmz-dev-sql.postgres.database.azure.com\n",
      "DB-name: cgm\n",
      "Found 10353 images.\n",
      "2020-01-10 10:22:42.402509: I tensorflow/core/platform/cpu_feature_guard.cc:141] Your CPU supports instructions that this TensorFlow binary was not compiled to use: AVX2 FMA\n",
      "2020-01-10 10:22:49.778319: I tensorflow/compiler/xla/service/service.cc:150] XLA service 0x55b678adbcb0 executing computations on platform CUDA. Devices:\n",
      "2020-01-10 10:22:49.778362: I tensorflow/compiler/xla/service/service.cc:158]   StreamExecutor device (0): Tesla K80, Compute Capability 3.7\n",
      "2020-01-10 10:22:49.778379: I tensorflow/compiler/xla/service/service.cc:158]   StreamExecutor device (1): Tesla K80, Compute Capability 3.7\n",
      "2020-01-10 10:22:49.780795: I tensorflow/core/platform/profile_utils/cpu_utils.cc:94] CPU Frequency: 2596990000 Hz\n",
      "2020-01-10 10:22:49.781773: I tensorflow/compiler/xla/service/service.cc:150] XLA service 0x55b678c09020 executing computations on platform Host. Devices:\n",
      "2020-01-10 10:22:49.781800: I tensorflow/compiler/xla/service/service.cc:158]   StreamExecutor device (0): <undefined>, <undefined>\n",
      "2020-01-10 10:22:49.782353: I tensorflow/core/common_runtime/gpu/gpu_device.cc:1433] Found device 0 with properties: \n",
      "name: Tesla K80 major: 3 minor: 7 memoryClockRate(GHz): 0.8235\n",
      "pciBusID: 51a2:00:00.0\n",
      "totalMemory: 11.17GiB freeMemory: 11.11GiB\n",
      "2020-01-10 10:22:49.782421: I tensorflow/core/common_runtime/gpu/gpu_device.cc:1433] Found device 1 with properties: \n",
      "name: Tesla K80 major: 3 minor: 7 memoryClockRate(GHz): 0.8235\n",
      "pciBusID: 7306:00:00.0\n",
      "totalMemory: 11.17GiB freeMemory: 11.11GiB\n",
      "2020-01-10 10:22:49.782476: I tensorflow/core/common_runtime/gpu/gpu_device.cc:1512] Adding visible gpu devices: 0, 1\n",
      "2020-01-10 10:22:49.786917: I tensorflow/core/common_runtime/gpu/gpu_device.cc:984] Device interconnect StreamExecutor with strength 1 edge matrix:\n",
      "2020-01-10 10:22:49.786942: I tensorflow/core/common_runtime/gpu/gpu_device.cc:990]      0 1 \n",
      "2020-01-10 10:22:49.786957: I tensorflow/core/common_runtime/gpu/gpu_device.cc:1003] 0:   N N \n",
      "2020-01-10 10:22:49.786968: I tensorflow/core/common_runtime/gpu/gpu_device.cc:1003] 1:   N N \n",
      "2020-01-10 10:22:49.787058: I tensorflow/core/common_runtime/gpu/gpu_device.cc:1115] Created TensorFlow device (/job:localhost/replica:0/task:0/device:GPU:0 with 10804 MB memory) -> physical GPU (device: 0, name: Tesla K80, pci bus id: 51a2:00:00.0, compute capability: 3.7)\n",
      "2020-01-10 10:22:49.787489: I tensorflow/core/common_runtime/gpu/gpu_device.cc:1115] Created TensorFlow device (/job:localhost/replica:0/task:0/device:GPU:1 with 10804 MB memory) -> physical GPU (device: 1, name: Tesla K80, pci bus id: 7306:00:00.0, compute capability: 3.7)\n",
      "Cannot find model file ./_models/model-mobilenet_v1_101.pb, converting from tfjs...\n",
      "Traceback (most recent call last):\n",
      "  File \"command_update_artifactsquality.py\", line 460, in <module>\n",
      "    main()\n",
      "  File \"command_update_artifactsquality.py\", line 56, in main\n",
      "    update_artifactsquality_with_posenet()\n",
      "  File \"command_update_artifactsquality.py\", line 378, in update_artifactsquality_with_posenet\n",
      "    model_cfg, model_outputs = posenet.load_model(101, sess)\n",
      "  File \"../posenet/model.py\", line 42, in load_model\n",
      "    convert(model_ord, model_dir, check=False)\n",
      "  File \"../posenet/converter/tfjs2python.py\", line 164, in convert\n",
      "    variables = load_variables(chkpoint)\n",
      "  File \"../posenet/converter/tfjs2python.py\", line 54, in load_variables\n",
      "    variables = json.load(f)\n",
      "  File \"/data/anaconda/envs/py35/lib/python3.5/json/__init__.py\", line 265, in load\n",
      "    return loads(fp.read(),\n",
      "  File \"/data/anaconda/envs/py35/lib/python3.5/codecs.py\", line 321, in decode\n",
      "    (result, consumed) = self._buffer_decode(data, self.errors, final)\n",
      "UnicodeDecodeError: 'utf-8' codec can't decode byte 0x8b in position 1: invalid start byte\n"
     ]
    }
   ],
   "source": [
    "!python3 command_update_artifactsquality.py posenet"
   ]
  },
  {
   "cell_type": "code",
   "execution_count": null,
   "metadata": {},
   "outputs": [],
   "source": []
  }
 ],
 "metadata": {
  "kernelspec": {
   "display_name": "Python 3.5",
   "language": "python",
   "name": "python3"
  },
  "language_info": {
   "codemirror_mode": {
    "name": "ipython",
    "version": 3
   },
   "file_extension": ".py",
   "mimetype": "text/x-python",
   "name": "python",
   "nbconvert_exporter": "python",
   "pygments_lexer": "ipython3",
   "version": "3.5.5"
  }
 },
 "nbformat": 4,
 "nbformat_minor": 2
}
